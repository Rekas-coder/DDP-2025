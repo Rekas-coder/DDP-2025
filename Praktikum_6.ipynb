{
  "nbformat": 4,
  "nbformat_minor": 0,
  "metadata": {
    "colab": {
      "provenance": [],
      "authorship_tag": "ABX9TyM38//tvXJh43WebqtTeIL0",
      "include_colab_link": true
    },
    "kernelspec": {
      "name": "python3",
      "display_name": "Python 3"
    },
    "language_info": {
      "name": "python"
    }
  },
  "cells": [
    {
      "cell_type": "markdown",
      "metadata": {
        "id": "view-in-github",
        "colab_type": "text"
      },
      "source": [
        "<a href=\"https://colab.research.google.com/github/Rekas-coder/DDP-2025/blob/main/Praktikum_6.ipynb\" target=\"_parent\"><img src=\"https://colab.research.google.com/assets/colab-badge.svg\" alt=\"Open In Colab\"/></a>"
      ]
    },
    {
      "cell_type": "code",
      "execution_count": 30,
      "metadata": {
        "colab": {
          "base_uri": "https://localhost:8080/"
        },
        "id": "7fz-Oc-E5ho5",
        "outputId": "f1476ddf-3337-4629-bb46-39d8ceedd6ae"
      },
      "outputs": [
        {
          "output_type": "stream",
          "name": "stdout",
          "text": [
            "951 651 69 319 601 485 507 725 547 615 83 165 141 501 263 617 865 575 219 105 941 47 907 375 823 597 615 953 345 399 219 237 949 687 217 815 67 767 "
          ]
        }
      ],
      "source": [
        "#Print semua bilangan ganjil dari list berikut.\n",
        "#hentikan perulangan ketika sudah melewati bilangan 553.\n",
        "#Pakai perulangan while.\n",
        "\n",
        "#[] data list\n",
        "#() data dictionary\n",
        "#1,3,a,b,c data normal\n",
        "\n",
        "numbers = [ 951, 402, 984, 651, 360, 69, 408, 319, 601, 485, 980, 507, 725,\n",
        "547, 544, 615, 83, 165, 141, 501, 263, 617, 865, 575, 219, 390,\n",
        "984, 592, 236, 105, 942, 941, 386, 462, 47, 418, 907, 344, 236,\n",
        "375, 823, 566, 597, 978, 328, 615, 953, 345, 399, 162, 758, 219,\n",
        "918, 237, 412, 566, 826, 248, 866, 950, 626, 949, 687, 217, 815,\n",
        "67, 104, 58, 512, 24, 892, 894, 767, 553, 81, 379, 843, 831, 445,\n",
        "742, 717, 958, 609, 842, 451, 688, 753, 854, 685, 93, 857, 440,\n",
        "380, 126, 721, 328, 753, 470, 743, 527 ]\n",
        "\n",
        "index = 0\n",
        "while index <= len(numbers):\n",
        " if numbers[index] == 553: #kondisi untuk mencari index 553\n",
        "  break\n",
        " if numbers[index] %2 == 1: #kondisi untuk mencetak nilai ganjil\n",
        "  print(numbers[index], end=\" \")\n",
        " index += 1"
      ]
    },
    {
      "cell_type": "code",
      "source": [
        "#Buat lah output dari menggunakan bahasa pemrograman python dengan :\n",
        "#1 + 3 + 5 + 7 +9 +11 +13 + 15 +17 +19 = …\n",
        "\n",
        "jumlah = 0 #variabel untuk menyimpan nilai\n",
        "string = '' #untuk membaca tanda +\n",
        "\n",
        "bilangan = 1\n",
        "while bilangan <= 19: #untuk melakukan pengulangan sebanyak 19x\n",
        " jumlah += bilangan\n",
        " string += str(bilangan)\n",
        " if bilangan < 19:\n",
        "   string += '+'\n",
        " bilangan += 2\n",
        "print(string, '=' ,jumlah)"
      ],
      "metadata": {
        "colab": {
          "base_uri": "https://localhost:8080/"
        },
        "id": "1lgAqqlg-2NL",
        "outputId": "7c4989df-4bc6-4a28-e6dd-e815ef55e95c"
      },
      "execution_count": 29,
      "outputs": [
        {
          "output_type": "stream",
          "name": "stdout",
          "text": [
            "1+3+5+7+9+11+13+15+17+19 = 100\n"
          ]
        }
      ]
    },
    {
      "cell_type": "code",
      "source": [
        "for i in range (1,6):\n",
        " for j in range (1,i+1):\n",
        "  print(\"*\", end=\" \")\n",
        " print()"
      ],
      "metadata": {
        "colab": {
          "base_uri": "https://localhost:8080/"
        },
        "id": "d0q-CFISDNqa",
        "outputId": "eff03688-eb63-4bb7-b2a7-9e8fa8ef7bc7"
      },
      "execution_count": 31,
      "outputs": [
        {
          "output_type": "stream",
          "name": "stdout",
          "text": [
            "* \n",
            "* * \n",
            "* * * \n",
            "* * * * \n",
            "* * * * * \n"
          ]
        }
      ]
    }
  ]
}