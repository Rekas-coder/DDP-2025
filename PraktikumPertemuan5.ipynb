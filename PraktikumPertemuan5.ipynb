{
  "nbformat": 4,
  "nbformat_minor": 0,
  "metadata": {
    "colab": {
      "provenance": [],
      "authorship_tag": "ABX9TyNqT65rThl2zlZbozcpVUt5",
      "include_colab_link": true
    },
    "kernelspec": {
      "name": "python3",
      "display_name": "Python 3"
    },
    "language_info": {
      "name": "python"
    }
  },
  "cells": [
    {
      "cell_type": "markdown",
      "metadata": {
        "id": "view-in-github",
        "colab_type": "text"
      },
      "source": [
        "<a href=\"https://colab.research.google.com/github/Rekas-coder/DDP-2025/blob/main/PraktikumPertemuan5.ipynb\" target=\"_parent\"><img src=\"https://colab.research.google.com/assets/colab-badge.svg\" alt=\"Open In Colab\"/></a>"
      ]
    },
    {
      "cell_type": "code",
      "source": [
        "namakendaraan = \"Supra Tempur\"\n",
        "jeniskendaraan = \"motor\"\n",
        "cckendaraan = 125\n",
        "warnakendaraan = \"merah\"\n",
        "rodakendaraan = 2\n",
        "\n",
        "data_kendaraan = [namakendaraan, jeniskendaraan,\n",
        " cckendaraan, warnakendaraan, rodakendaraan]\n",
        "\n",
        "print(data_kendaraan)\n",
        "\n",
        "hargakendaraan = 5000\n",
        "tipekendaraan = \"manual\"\n",
        "\n",
        "data_kendaraan.append(hargakendaraan)\n",
        "data_kendaraan.append(tipekendaraan)\n",
        "print(data_kendaraan)\n",
        "\n",
        "merkkendaraan = \"honda\"\n",
        "data_kendaraan.insert(2, merkkendaraan)\n",
        "print(data_kendaraan)"
      ],
      "metadata": {
        "colab": {
          "base_uri": "https://localhost:8080/"
        },
        "id": "sfRQghir4otx",
        "outputId": "69738b19-3f1f-47ab-f002-1f7452949bf5"
      },
      "execution_count": 19,
      "outputs": [
        {
          "output_type": "stream",
          "name": "stdout",
          "text": [
            "['Supra Tempur', 'motor', 125, 'merah', 2]\n",
            "['Supra Tempur', 'motor', 125, 'merah', 2, 5000, 'manual']\n",
            "['Supra Tempur', 'motor', 'honda', 125, 'merah', 2, 5000, 'manual']\n"
          ]
        }
      ]
    },
    {
      "cell_type": "code",
      "source": [
        "nilai = int(input(\"\"\"Mari Menghitung\n",
        "pilih 1 jika menghitung luas persegi\n",
        "pilih 2 jika menghitung luas lingkaran\n",
        "pilih 3 jika menghitung luas segitiga\n",
        "\"\"\"))\n",
        "\n",
        "match nilai:\n",
        "  case 1 :\n",
        "    sisi = int(input(\"masukan sisi \"))\n",
        "    total = sisi * sisi\n",
        "    print(\"luas persegi adalah \",total)\n",
        "  case 2 :\n",
        "    jari = int(input(\"masukan jari-jari \"))\n",
        "    total = 3.14 * jari * jari\n",
        "    print(\"luas lingkaran adalah \",total)\n",
        "  case 3 :\n",
        "    alas = int(input(\"masukan alas \"))\n",
        "    tinggi = int(input(\"masukan tinggi \"))\n",
        "    total = alas * tinggi / 2\n",
        "    print(\"luas segitiga adalah \",total)\n",
        "  case _:\n",
        "    print(\"salah masukan input\")"
      ],
      "metadata": {
        "colab": {
          "base_uri": "https://localhost:8080/"
        },
        "id": "GYqwDnJOC2i3",
        "outputId": "74291843-ebd2-4d62-cb4a-c67061125732"
      },
      "execution_count": 35,
      "outputs": [
        {
          "output_type": "stream",
          "name": "stdout",
          "text": [
            "Mari Menghitung\n",
            "pilih 1 jika menghitung luas persegi\n",
            "pilih 2 jika menghitung luas lingkaran\n",
            "pilih 3 jika menghitung luas segitiga\n",
            "3\n",
            "masukan alas 25\n",
            "masukan tinggi 25\n",
            "luas segitiga adalah  312.5\n"
          ]
        }
      ]
    }
  ]
}